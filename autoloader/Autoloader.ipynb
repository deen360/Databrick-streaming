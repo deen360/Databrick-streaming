{
 "cells": [
  {
   "cell_type": "code",
   "execution_count": 0,
   "metadata": {
    "application/vnd.databricks.v1+cell": {
     "cellMetadata": {},
     "inputWidgets": {},
     "nuid": "14593441-9c2f-4426-bab1-c6c24a1d6bce",
     "showTitle": false,
     "tableResultSettingsMap": {},
     "title": ""
    }
   },
   "outputs": [],
   "source": []
  },
  {
   "cell_type": "code",
   "execution_count": 0,
   "metadata": {
    "application/vnd.databricks.v1+cell": {
     "cellMetadata": {},
     "inputWidgets": {},
     "nuid": "b8eb2531-c756-4bc8-809e-a94a6ac301e3",
     "showTitle": false,
     "tableResultSettingsMap": {},
     "title": ""
    }
   },
   "outputs": [],
   "source": [
    "( spark.readStream\n",
    ".format(\"cloudFiles\")\n",
    ".option(\"cloudFiles.format\", \"csv\")\n",
    ".option(\"cloudFiles.schemaLocation\", f\"{output_path}/naval/autoloader/schemalocation\")\n",
    ".load(f\"{input_file}\")\n",
    ".writeStream\n",
    ".option(\"checkpointLocation\", f\"{output_path}/naval/autoloader/checkpoint\")\n",
    ".option(\"path\",f\"{output_path}/naval/autoloader/output\")\n",
    ".table(\"autoloader\")\n",
    ")"
   ]
  }
 ],
 "metadata": {
  "application/vnd.databricks.v1+notebook": {
   "computePreferences": null,
   "dashboards": [],
   "environmentMetadata": {
    "base_environment": "",
    "environment_version": "2"
   },
   "inputWidgetPreferences": null,
   "language": "python",
   "notebookMetadata": {
    "pythonIndentUnit": 4
   },
   "notebookName": "Autoloader",
   "widgets": {}
  },
  "language_info": {
   "name": "python"
  }
 },
 "nbformat": 4,
 "nbformat_minor": 0
}
